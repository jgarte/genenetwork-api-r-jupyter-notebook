{
 "cells": [
  {
   "cell_type": "markdown",
   "id": "87464607",
   "metadata": {},
   "source": [
    "# Querying Genenetwork API with R\n",
    "![](deploy-with-guix-badge.svg)"
   ]
  },
  {
   "cell_type": "code",
   "execution_count": null,
   "id": "a9311e9c",
   "metadata": {},
   "outputs": [],
   "source": [
    "library(httr)\n",
    "library(jsonlite)\n",
    "library(ggplot2)\n",
    "library(magrittr)"
   ]
  },
  {
   "cell_type": "code",
   "execution_count": null,
   "id": "5ac104c1",
   "metadata": {
    "scrolled": true
   },
   "outputs": [],
   "source": [
    "res <- GET(\"http://genenetwork.org/api/v_pre1/species/mouse\")\n",
    "res"
   ]
  },
  {
   "cell_type": "markdown",
   "id": "19c724a7",
   "metadata": {},
   "source": [
    "# Viewing a DataFrame"
   ]
  },
  {
   "cell_type": "code",
   "execution_count": null,
   "id": "d3f45094",
   "metadata": {},
   "outputs": [],
   "source": [
    "api <- \"http://genenetwork.org/api/v_pre1/datasets/bxd\"\n",
    "\n",
    "raw_json <- jsonlite::fromJSON(api)\n",
    "\n",
    "raw_json"
   ]
  },
  {
   "cell_type": "markdown",
   "id": "876eda87",
   "metadata": {},
   "source": [
    "# Plotting Results From GeneNetwork REST API"
   ]
  },
  {
   "cell_type": "code",
   "execution_count": null,
   "id": "e7502be6",
   "metadata": {},
   "outputs": [],
   "source": [
    "api <- \"http://genenetwork.org/api/v_pre1/datasets/bxd\"\n",
    "\n",
    "request <- GET(url = api)\n",
    "\n",
    "response <- content(request, as = \"text\", encoding = \"UTF-8\")\n",
    "\n",
    "df <- fromJSON(response, flatten = TRUE) %>% \n",
    "  data.frame()\n",
    "\n",
    "plot(df, main = \"Results From GeneNetwork API\")"
   ]
  }
 ],
 "metadata": {
  "kernelspec": {
   "display_name": "R",
   "language": "R",
   "name": "ir"
  },
  "language_info": {
   "codemirror_mode": "r",
   "file_extension": ".r",
   "mimetype": "text/x-r-source",
   "name": "R",
   "pygments_lexer": "r",
   "version": "4.1.1"
  }
 },
 "nbformat": 4,
 "nbformat_minor": 5
}
